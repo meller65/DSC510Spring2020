{
 "cells": [
  {
   "cell_type": "code",
   "execution_count": 1,
   "metadata": {},
   "outputs": [],
   "source": [
    "import pandas as pd\n",
    "import numpy as np\n",
    "import matplotlib.pyplot as plt\n",
    "import scipy.stats as stats\n",
    "from sklearn import linear_model\n",
    "import statsmodels.api as sm\n",
    "import statsmodels.formula.api as smf\n",
    "from statsmodels import datasets\n",
    "import seaborn as sns\n",
    "\n",
    "\n",
    "\n"
   ]
  },
  {
   "cell_type": "code",
   "execution_count": 2,
   "metadata": {},
   "outputs": [
    {
     "data": {
      "text/plain": [
       "Index(['hotel', 'is_canceled', 'lead_time', 'arrival_date_year',\n",
       "       'arrival_date_month', 'arrival_date_week_number',\n",
       "       'arrival_date_day_of_month', 'stays_in_weekend_nights',\n",
       "       'stays_in_week_nights', 'adults', 'children', 'babies', 'meal',\n",
       "       'country', 'market_segment', 'distribution_channel',\n",
       "       'is_repeated_guest', 'previous_cancellations',\n",
       "       'previous_bookings_not_canceled', 'reserved_room_type',\n",
       "       'assigned_room_type', 'booking_changes', 'deposit_type', 'agent',\n",
       "       'company', 'days_in_waiting_list', 'customer_type', 'adr',\n",
       "       'required_car_parking_spaces', 'total_of_special_requests',\n",
       "       'reservation_status', 'reservation_status_date'],\n",
       "      dtype='object')"
      ]
     },
     "execution_count": 2,
     "metadata": {},
     "output_type": "execute_result"
    }
   ],
   "source": [
    "#Load csv file into dataframe\n",
    "df=pd.read_csv(r'C:\\Users\\hsman\\OneDrive\\Documents\\hotel_bookings.csv')\n",
    "#list out all columns\n",
    "df.columns\n",
    "\n"
   ]
  },
  {
   "cell_type": "code",
   "execution_count": 3,
   "metadata": {
    "scrolled": true
   },
   "outputs": [
    {
     "data": {
      "text/plain": [
       "{'Check-Out': 1, 'Canceled': 2, 'No-Show': 3}"
      ]
     },
     "execution_count": 3,
     "metadata": {},
     "output_type": "execute_result"
    }
   ],
   "source": [
    "#Create dictionary for conversion of STR MNTH value into INT MNTH value\n",
    "d={'January':1,'February':2,'March':3,'April':4,'May':5,'June':6,'July':7,'August':8,'September':9,\n",
    "   'October':10,'November':11,'December':12}\n",
    "df['arrival_date_month']=df['arrival_date_month'].map(d)\n",
    "\n",
    "#Create dictionary for conversion of reservation status\n",
    "d1={'Check-Out':1,'Canceled':2,'No-Show':3}\n",
    "df['reservation_status']=df['reservation_status'].map(d1)\n",
    "d1"
   ]
  },
  {
   "cell_type": "code",
   "execution_count": 4,
   "metadata": {
    "scrolled": false
   },
   "outputs": [
    {
     "data": {
      "text/plain": [
       "(array([0.00918222, 0.005697  , 0.00405859, 0.00342438, 0.00269627,\n",
       "        0.00231786, 0.00225765, 0.00157914, 0.00122475, 0.00103727,\n",
       "        0.00104943, 0.000827  , 0.00060208, 0.00034472, 0.000287  ]),\n",
       " array([-10.        ,  17.33333333,  44.66666667,  72.        ,\n",
       "         99.33333333, 126.66666667, 154.        , 181.33333333,\n",
       "        208.66666667, 236.        , 263.33333333, 290.66666667,\n",
       "        318.        , 345.33333333, 372.66666667, 400.        ]),\n",
       " <a list of 15 Patch objects>)"
      ]
     },
     "execution_count": 4,
     "metadata": {},
     "output_type": "execute_result"
    },
    {
     "data": {
      "image/png": "[encoded data removed]",
      "text/plain": [
       "<Figure size 432x288 with 1 Axes>"
      ]
     },
     "metadata": {
      "needs_background": "light"
     },
     "output_type": "display_data"
    }
   ],
   "source": [
    "#Hist 1 - Variable Lead Time\n",
    "x=df['lead_time']\n",
    "plt.hist(x,15,range=[-10,400],density=1,edgecolor='k',align='mid')\n",
    "#plt.axvline(df['lead_time'].mean(),color='k',linestyle='dashed',linewidth=1)\n",
    "\n",
    "\n"
   ]
  },
  {
   "cell_type": "code",
   "execution_count": 79,
   "metadata": {},
   "outputs": [
    {
     "data": {
      "text/plain": [
       "count    119390.000000\n",
       "mean        104.011416\n",
       "std         106.863097\n",
       "min           0.000000\n",
       "25%          18.000000\n",
       "50%          69.000000\n",
       "75%         160.000000\n",
       "max         737.000000\n",
       "Name: lead_time, dtype: float64"
      ]
     },
     "execution_count": 79,
     "metadata": {},
     "output_type": "execute_result"
    }
   ],
   "source": [
    "#Descriptive Statistics for Lead Time\n",
    "df['lead_time'].describe()\n",
    "\n",
    "\n"
   ]
  },
  {
   "cell_type": "code",
   "execution_count": 80,
   "metadata": {},
   "outputs": [
    {
     "name": "stdout",
     "output_type": "stream",
     "text": [
      "The Median is 69.0\n",
      "The Mode is 0    0\n",
      "dtype: int64\n"
     ]
    }
   ],
   "source": [
    "print(\"The Median is\",df['lead_time'].median())\n",
    "print(\"The Mode is\", df['lead_time'].mode())"
   ]
  },
  {
   "cell_type": "code",
   "execution_count": 76,
   "metadata": {},
   "outputs": [
    {
     "data": {
      "text/plain": [
       "0    0\n",
       "dtype: int64"
      ]
     },
     "execution_count": 76,
     "metadata": {},
     "output_type": "execute_result"
    },
    {
     "data": {
      "image/png": "[encoded data removed]",
      "text/plain": [
       "<Figure size 432x288 with 1 Axes>"
      ]
     },
     "metadata": {
      "needs_background": "light"
     },
     "output_type": "display_data"
    }
   ],
   "source": [
    "xt=df[df['lead_time'] < 100]\n",
    "xtt=xt['lead_time']\n",
    "plt.hist(xtt)\n",
    "\n",
    "xtt.mode()"
   ]
  },
  {
   "cell_type": "code",
   "execution_count": 89,
   "metadata": {},
   "outputs": [
    {
     "data": {
      "text/plain": [
       "(array([ 1316.,  4665.,  6274., 13943., 12921., 16112., 12604., 11552.,\n",
       "         9217.,  7249.,  5135.,  3963.,  3250.,  1903.,  1977.]),\n",
       " array([ 20.,  32.,  44.,  56.,  68.,  80.,  92., 104., 116., 128., 140.,\n",
       "        152., 164., 176., 188., 200.]),\n",
       " <a list of 15 Patch objects>)"
      ]
     },
     "execution_count": 89,
     "metadata": {},
     "output_type": "execute_result"
    },
    {
     "data": {
      "image/png": "[encoded data removed]",
      "text/plain": [
       "<Figure size 432x288 with 1 Axes>"
      ]
     },
     "metadata": {
      "needs_background": "light"
     },
     "output_type": "display_data"
    }
   ],
   "source": [
    "#Hist 2 - Average Daily Rate\n",
    "x11=df[df['adr'] > 20]\n",
    "\n",
    "x1=x11['adr']\n",
    "plt.hist(x1,15,range=[20,200],edgecolor='k',align='mid')\n",
    "\n",
    "\n",
    "\n"
   ]
  },
  {
   "cell_type": "code",
   "execution_count": 83,
   "metadata": {},
   "outputs": [
    {
     "data": {
      "text/plain": [
       "count    119390.000000\n",
       "mean        101.831122\n",
       "std          50.535790\n",
       "min          -6.380000\n",
       "25%          69.290000\n",
       "50%          94.575000\n",
       "75%         126.000000\n",
       "max        5400.000000\n",
       "Name: adr, dtype: float64"
      ]
     },
     "execution_count": 83,
     "metadata": {},
     "output_type": "execute_result"
    }
   ],
   "source": [
    "#Descriptive Statistics for ADR\n",
    "df['adr'].describe()"
   ]
  },
  {
   "cell_type": "code",
   "execution_count": 85,
   "metadata": {},
   "outputs": [
    {
     "name": "stdout",
     "output_type": "stream",
     "text": [
      "The Median is 94.575\n",
      "The Mode is 0    62.0\n",
      "dtype: float64\n"
     ]
    }
   ],
   "source": [
    "print(\"The Median is\",df['adr'].median())\n",
    "print(\"The Mode is\", df['adr'].mode())"
   ]
  },
  {
   "cell_type": "code",
   "execution_count": 101,
   "metadata": {},
   "outputs": [
    {
     "data": {
      "text/plain": [
       "Text(0, 0.5, 'lead_time')"
      ]
     },
     "execution_count": 101,
     "metadata": {},
     "output_type": "execute_result"
    },
    {
     "data": {
      "image/png": "[encoded data removed]",
      "text/plain": [
       "<Figure size 432x288 with 1 Axes>"
      ]
     },
     "metadata": {
      "needs_background": "light"
     },
     "output_type": "display_data"
    }
   ],
   "source": [
    "df_sample=df.sample(500)\n",
    "x1=df_sample['adr']\n",
    "y1=df_sample['lead_time']\n",
    "plt.scatter(x1,y1)\n",
    "plt.xlabel('adr')\n",
    "plt.ylabel('lead_time')"
   ]
  },
  {
   "cell_type": "code",
   "execution_count": 123,
   "metadata": {},
   "outputs": [
    {
     "name": "stdout",
     "output_type": "stream",
     "text": [
      "[[ 2200.63400417  -463.29102852]\n",
      " [ -463.29102852 11898.360204  ]]\n"
     ]
    }
   ],
   "source": [
    "#Covariance\n",
    "data=np.array([x1,y1])\n",
    "covMatrix=np.cov(data,bias=True)\n",
    "print (covMatrix)"
   ]
  },
  {
   "cell_type": "code",
   "execution_count": 122,
   "metadata": {},
   "outputs": [
    {
     "name": "stdout",
     "output_type": "stream",
     "text": [
      "[[ 2200.63400417  -463.29102852]\n",
      " [ -463.29102852 11898.360204  ]]\n",
      "The pearsons Coeffecient is: -0.09053915239819718\n"
     ]
    }
   ],
   "source": [
    "#Pearson Coeffecient\n",
    "x1=df_sample['adr']\n",
    "y1=df_sample['lead_time']\n",
    "data=np.array([x1,y1])\n",
    "covMatrix=np.cov(data,bias=True)\n",
    "print (covMatrix)\n",
    "print(\"The pearsons Coeffecient is:\", np.corrcoef(x1,y1)[1,0])"
   ]
  },
  {
   "cell_type": "code",
   "execution_count": 111,
   "metadata": {},
   "outputs": [
    {
     "data": {
      "text/plain": [
       "Text(0, 0.5, '# of special requests')"
      ]
     },
     "execution_count": 111,
     "metadata": {},
     "output_type": "execute_result"
    },
    {
     "data": {
      "image/png": "[encoded data removed]",
      "text/plain": [
       "<Figure size 432x288 with 1 Axes>"
      ]
     },
     "metadata": {
      "needs_background": "light"
     },
     "output_type": "display_data"
    }
   ],
   "source": [
    "#Scatter Plot: # of Special Requests to Stays in Week Nights\n",
    "x1=df['stays_in_week_nights']\n",
    "y1=df['total_of_special_requests']\n",
    "plt.scatter(x1,y1)\n",
    "plt.xlabel('stays in week nights')\n",
    "plt.ylabel('# of special requests')"
   ]
  },
  {
   "cell_type": "code",
   "execution_count": 112,
   "metadata": {},
   "outputs": [
    {
     "name": "stdout",
     "output_type": "stream",
     "text": [
      "[[3.64152349 0.10316552]\n",
      " [0.10316552 0.62852407]]\n"
     ]
    }
   ],
   "source": [
    "#Covariance\n",
    "data=np.array([x1,y1])\n",
    "covMatrix=np.cov(data,bias=True)\n",
    "print (covMatrix)"
   ]
  },
  {
   "cell_type": "code",
   "execution_count": 124,
   "metadata": {},
   "outputs": [
    {
     "data": {
      "text/plain": [
       "0.06819178170957262"
      ]
     },
     "execution_count": 124,
     "metadata": {},
     "output_type": "execute_result"
    }
   ],
   "source": [
    "#Pearson Coeffecient\n",
    "x1=df['stays_in_week_nights']\n",
    "y1=df['total_of_special_requests']\n",
    "np.corrcoef(x1,y1)[1,0]"
   ]
  },
  {
   "cell_type": "code",
   "execution_count": 8,
   "metadata": {},
   "outputs": [
    {
     "data": {
      "text/plain": [
       "(array([ 7966., 10661., 11857., 13772., 12719., 17153., 13609., 13094.,\n",
       "         9824.,  8735.]),\n",
       " array([ 1. ,  6.2, 11.4, 16.6, 21.8, 27. , 32.2, 37.4, 42.6, 47.8, 53. ]),\n",
       " <a list of 10 Patch objects>)"
      ]
     },
     "execution_count": 8,
     "metadata": {},
     "output_type": "execute_result"
    },
    {
     "data": {
      "image/png": "[encoded data removed]",
      "text/plain": [
       "<Figure size 432x288 with 1 Axes>"
      ]
     },
     "metadata": {
      "needs_background": "light"
     },
     "output_type": "display_data"
    }
   ],
   "source": [
    "#Hist 3 - Arrival Date Week #\n",
    "x2=df['arrival_date_week_number']\n",
    "plt.hist(x2,edgecolor='k',align='mid')"
   ]
  },
  {
   "cell_type": "code",
   "execution_count": 9,
   "metadata": {},
   "outputs": [
    {
     "data": {
      "text/plain": [
       "(array([11536., 11913., 11682., 11261., 11760., 12486., 11851., 11205.,\n",
       "        12109., 13587.]),\n",
       " array([ 1.,  4.,  7., 10., 13., 16., 19., 22., 25., 28., 31.]),\n",
       " <a list of 10 Patch objects>)"
      ]
     },
     "execution_count": 9,
     "metadata": {},
     "output_type": "execute_result"
    },
    {
     "data": {
      "image/png": "[encoded data removed]",
      "text/plain": [
       "<Figure size 432x288 with 1 Axes>"
      ]
     },
     "metadata": {
      "needs_background": "light"
     },
     "output_type": "display_data"
    }
   ],
   "source": [
    "#Hist 4 - Arrival Date Day of Month\n",
    "x3=df['arrival_date_day_of_month']\n",
    "plt.hist(x3,10,edgecolor='k',align='mid')"
   ]
  },
  {
   "cell_type": "code",
   "execution_count": 10,
   "metadata": {},
   "outputs": [
    {
     "data": {
      "text/plain": [
       "(array([  403.,     0.,     0., 23027.,     0.,     0., 89680.,     0.,\n",
       "            0.,  6202.]),\n",
       " array([0. , 0.3, 0.6, 0.9, 1.2, 1.5, 1.8, 2.1, 2.4, 2.7, 3. ]),\n",
       " <a list of 10 Patch objects>)"
      ]
     },
     "execution_count": 10,
     "metadata": {},
     "output_type": "execute_result"
    },
    {
     "data": {
      "image/png": "[encoded data removed]",
      "text/plain": [
       "<Figure size 432x288 with 1 Axes>"
      ]
     },
     "metadata": {
      "needs_background": "light"
     },
     "output_type": "display_data"
    }
   ],
   "source": [
    "#Hist 5 - # of Adults\n",
    "x4=df['adults']\n",
    "plt.hist(x4,range=[0,3])"
   ]
  },
  {
   "cell_type": "code",
   "execution_count": 90,
   "metadata": {},
   "outputs": [
    {
     "data": {
      "text/plain": [
       "(array([75166.,     0.,     0.,     0.,     0., 43017.,     0.,     0.,\n",
       "            0.,  1207.]),\n",
       " array([1. , 1.2, 1.4, 1.6, 1.8, 2. , 2.2, 2.4, 2.6, 2.8, 3. ]),\n",
       " <a list of 10 Patch objects>)"
      ]
     },
     "execution_count": 90,
     "metadata": {},
     "output_type": "execute_result"
    },
    {
     "data": {
      "image/png": "[encoded data removed]",
      "text/plain": [
       "<Figure size 432x288 with 1 Axes>"
      ]
     },
     "metadata": {
      "needs_background": "light"
     },
     "output_type": "display_data"
    }
   ],
   "source": [
    "#Histogram - Reservation Status\n",
    "x5=df['reservation_status']\n",
    "plt.hist(x5)"
   ]
  },
  {
   "cell_type": "code",
   "execution_count": 91,
   "metadata": {},
   "outputs": [
    {
     "data": {
      "text/plain": [
       "(array([7.0318e+04, 0.0000e+00, 3.3226e+04, 0.0000e+00, 1.2969e+04,\n",
       "        0.0000e+00, 2.4970e+03, 0.0000e+00, 3.4000e+02, 4.0000e+01]),\n",
       " array([0. , 0.5, 1. , 1.5, 2. , 2.5, 3. , 3.5, 4. , 4.5, 5. ]),\n",
       " <a list of 10 Patch objects>)"
      ]
     },
     "execution_count": 91,
     "metadata": {},
     "output_type": "execute_result"
    },
    {
     "data": {
      "image/png": "[encoded data removed]",
      "text/plain": [
       "<Figure size 432x288 with 1 Axes>"
      ]
     },
     "metadata": {
      "needs_background": "light"
     },
     "output_type": "display_data"
    }
   ],
   "source": [
    "#Histogram - Total of special requests\n",
    "x6=df['total_of_special_requests']\n",
    "plt.hist(x6)"
   ]
  },
  {
   "cell_type": "code",
   "execution_count": 92,
   "metadata": {},
   "outputs": [
    {
     "data": {
      "text/plain": [
       "count    119390.000000\n",
       "mean          0.571363\n",
       "std           0.792798\n",
       "min           0.000000\n",
       "25%           0.000000\n",
       "50%           0.000000\n",
       "75%           1.000000\n",
       "max           5.000000\n",
       "Name: total_of_special_requests, dtype: float64"
      ]
     },
     "execution_count": 92,
     "metadata": {},
     "output_type": "execute_result"
    }
   ],
   "source": [
    "#Descriptive Statistics for special requests\n",
    "df['total_of_special_requests'].describe()\n"
   ]
  },
  {
   "cell_type": "code",
   "execution_count": 13,
   "metadata": {},
   "outputs": [
    {
     "data": {
      "text/plain": [
       "[<matplotlib.lines.Line2D at 0x1ad5ce6fa60>]"
      ]
     },
     "execution_count": 13,
     "metadata": {},
     "output_type": "execute_result"
    },
    {
     "data": {
      "image/png": "[encoded data removed]",
      "text/plain": [
       "<Figure size 432x288 with 1 Axes>"
      ]
     },
     "metadata": {
      "needs_background": "light"
     },
     "output_type": "display_data"
    }
   ],
   "source": [
    "#Look at what months have the highest bookings\n",
    "ax=df.groupby('arrival_date_month').count()[['adr']]\n",
    "plt.plot(ax)\n",
    "\n",
    "\n",
    "\n",
    "\n"
   ]
  },
  {
   "cell_type": "code",
   "execution_count": 14,
   "metadata": {},
   "outputs": [
    {
     "data": {
      "text/plain": [
       "(0.0, 500.0)"
      ]
     },
     "execution_count": 14,
     "metadata": {},
     "output_type": "execute_result"
    },
    {
     "data": {
      "image/png": "[encoded data removed]",
      "text/plain": [
       "<Figure size 432x288 with 1 Axes>"
      ]
     },
     "metadata": {
      "needs_background": "light"
     },
     "output_type": "display_data"
    }
   ],
   "source": [
    "#SCATTER PLOT FOR ARRIVAL BY MONTH WITH ADR\n",
    "x=df['arrival_date_month']\n",
    "y=df['adr']\n",
    "plt.scatter(x,y)\n",
    "plt.ylim(0,500)\n",
    "\n"
   ]
  },
  {
   "cell_type": "code",
   "execution_count": 15,
   "metadata": {},
   "outputs": [
    {
     "name": "stdout",
     "output_type": "stream",
     "text": [
      "[[   9.55184386   12.38782086]\n",
      " [  12.38782086 2553.84470883]]\n"
     ]
    }
   ],
   "source": [
    "#Covariance Calculation for variables arrival_date_month & adr\n",
    "data=np.array([x,y])\n",
    "covMatrix=np.cov(data,bias=True)\n",
    "print (covMatrix)"
   ]
  },
  {
   "cell_type": "code",
   "execution_count": 16,
   "metadata": {},
   "outputs": [
    {
     "data": {
      "text/plain": [
       "(array([3.7955e+04, 5.5942e+04, 2.0640e+04, 2.5280e+03, 8.8700e+02,\n",
       "        1.0920e+03, 6.9000e+01, 1.2000e+02, 2.0000e+01, 9.1000e+01]),\n",
       " array([ 0.,  2.,  4.,  6.,  8., 10., 12., 14., 16., 18., 20.]),\n",
       " <a list of 10 Patch objects>)"
      ]
     },
     "execution_count": 16,
     "metadata": {},
     "output_type": "execute_result"
    },
    {
     "data": {
      "image/png": "[encoded data removed]",
      "text/plain": [
       "<Figure size 432x288 with 1 Axes>"
      ]
     },
     "metadata": {
      "needs_background": "light"
     },
     "output_type": "display_data"
    }
   ],
   "source": [
    "#Hist  - Stay in Week Nights\n",
    "x6=df['stays_in_week_nights']\n",
    "plt.hist(x6,10,range=[0,20], edgecolor='k')\n"
   ]
  },
  {
   "cell_type": "code",
   "execution_count": 93,
   "metadata": {},
   "outputs": [
    {
     "data": {
      "text/plain": [
       "count    119390.000000\n",
       "mean          2.500302\n",
       "std           1.908286\n",
       "min           0.000000\n",
       "25%           1.000000\n",
       "50%           2.000000\n",
       "75%           3.000000\n",
       "max          50.000000\n",
       "Name: stays_in_week_nights, dtype: float64"
      ]
     },
     "execution_count": 93,
     "metadata": {},
     "output_type": "execute_result"
    }
   ],
   "source": [
    "#Descriptive Statistics for special requests\n",
    "df['stays_in_week_nights'].describe()"
   ]
  },
  {
   "cell_type": "code",
   "execution_count": 17,
   "metadata": {},
   "outputs": [
    {
     "data": {
      "image/png": "[encoded data removed]",
      "text/plain": [
       "<Figure size 432x288 with 1 Axes>"
      ]
     },
     "metadata": {
      "needs_background": "light"
     },
     "output_type": "display_data"
    },
    {
     "name": "stdout",
     "output_type": "stream",
     "text": [
      "[[0.33554049 0.10277385]\n",
      " [0.10277385 3.64152349]]\n"
     ]
    }
   ],
   "source": [
    "x10=df['adults']\n",
    "y10=df['stays_in_week_nights']\n",
    "plt.scatter(x10,y10)\n",
    "plt.xlim(0,7)\n",
    "plt.show()\n",
    "\n",
    "#Covariance Calculation for adults and stay in week nights\n",
    "data=np.array([x10,y10])\n",
    "covMatrix=np.cov(data,bias=True)\n",
    "print (covMatrix)"
   ]
  },
  {
   "cell_type": "code",
   "execution_count": 36,
   "metadata": {},
   "outputs": [
    {
     "data": {
      "image/png": "[encoded data removed]",
      "text/plain": [
       "<Figure size 432x288 with 1 Axes>"
      ]
     },
     "metadata": {
      "needs_background": "light"
     },
     "output_type": "display_data"
    }
   ],
   "source": [
    "#Pareto Distribution Arrival Date Month\n",
    "import matplotlib.pyplot as plt\n",
    "a, m = 3., 2.  # shape and mode\n",
    "s= df['adr'] \n",
    "count, bins, _ = plt.hist(s, 100, density=True)\n",
    "fit = a*m**a / bins**(a+1)\n",
    "plt.plot(bins, max(count)*fit/max(fit), linewidth=2, color='r')\n",
    "plt.xlim(0,1000)\n",
    "plt.ylim(0,0.010)\n",
    "plt.show()\n"
   ]
  },
  {
   "cell_type": "code",
   "execution_count": 95,
   "metadata": {},
   "outputs": [
    {
     "data": {
      "text/plain": [
       "Text(0.5, 0, 'stays in week night')"
      ]
     },
     "execution_count": 95,
     "metadata": {},
     "output_type": "execute_result"
    },
    {
     "data": {
      "image/png": "[encoded data removed]",
      "text/plain": [
       "<Figure size 432x288 with 1 Axes>"
      ]
     },
     "metadata": {
      "needs_background": "light"
     },
     "output_type": "display_data"
    }
   ],
   "source": [
    "x_1=np.sort(df['stays_in_week_nights'])\n",
    "n=x.size\n",
    "y=np.arange(1,n+1)/n\n",
    "plt.scatter(x=x_1,y=y)\n",
    "plt.xlim(0,50)\n",
    "plt.xlabel('stays in week night')"
   ]
  },
  {
   "cell_type": "code",
   "execution_count": 96,
   "metadata": {},
   "outputs": [
    {
     "data": {
      "text/plain": [
       "Text(0.5, 0, 'average daily rate')"
      ]
     },
     "execution_count": 96,
     "metadata": {},
     "output_type": "execute_result"
    },
    {
     "data": {
      "image/png": "[encoded data removed]",
      "text/plain": [
       "<Figure size 432x288 with 1 Axes>"
      ]
     },
     "metadata": {
      "needs_background": "light"
     },
     "output_type": "display_data"
    }
   ],
   "source": [
    "#CDF\n",
    "x=np.sort(df['adr'])\n",
    "n=x.size\n",
    "y=np.arange(1,n+1)/n\n",
    "plt.scatter(x=x,y=y)\n",
    "plt.xlim(0,500)\n",
    "plt.xlabel('average daily rate')\n"
   ]
  },
  {
   "cell_type": "code",
   "execution_count": 142,
   "metadata": {},
   "outputs": [
    {
     "data": {
      "text/plain": [
       "(array([0.00088089, 0.00646916, 0.01035987, 0.00833034, 0.0042985 ,\n",
       "        0.00213002, 0.00111998, 0.00061132, 0.00028662, 0.00011537]),\n",
       " array([ 11. ,  39.9,  68.8,  97.7, 126.6, 155.5, 184.4, 213.3, 242.2,\n",
       "        271.1, 300. ]),\n",
       " <a list of 10 Patch objects>)"
      ]
     },
     "execution_count": 142,
     "metadata": {},
     "output_type": "execute_result"
    },
    {
     "data": {
      "image/png": "[encoded data removed]",
      "text/plain": [
       "<Figure size 432x288 with 1 Axes>"
      ]
     },
     "metadata": {
      "needs_background": "light"
     },
     "output_type": "display_data"
    }
   ],
   "source": [
    "x=df[df['lead_time'] > 10]\n",
    "n=x['adr']\n",
    "plt.hist(n,10,range=[11,300],density=1,edgecolor='k',align='mid')\n",
    "#plt.axvline(df['lead_time'].mean(),color='k',linestyle='dashed',linewidth=1)\n"
   ]
  },
  {
   "cell_type": "code",
   "execution_count": 164,
   "metadata": {},
   "outputs": [
    {
     "data": {
      "image/png": "[encoded data removed]",
      "text/plain": [
       "<Figure size 432x288 with 1 Axes>"
      ]
     },
     "metadata": {
      "needs_background": "light"
     },
     "output_type": "display_data"
    }
   ],
   "source": [
    "#Probability Distribution Function for ADR\n",
    "from scipy.stats import norm\n",
    "import matplotlib.pyplot as plt\n",
    "\n",
    "\n",
    "x=df[df['lead_time'] > 10]\n",
    "x=df[df['adr'] < 250]\n",
    "n=x['adr']\n",
    "\n",
    "ax=n.plot.kde()"
   ]
  },
  {
   "cell_type": "code",
   "execution_count": 231,
   "metadata": {},
   "outputs": [
    {
     "data": {
      "text/html": [
       "<table class=\"simpletable\">\n",
       "<caption>OLS Regression Results</caption>\n",
       "<tr>\n",
       "  <th>Dep. Variable:</th>           <td>adr</td>       <th>  R-squared (uncentered):</th>      <td>   0.705</td>\n",
       "</tr>\n",
       "<tr>\n",
       "  <th>Model:</th>                   <td>OLS</td>       <th>  Adj. R-squared (uncentered):</th> <td>   0.703</td>\n",
       "</tr>\n",
       "<tr>\n",
       "  <th>Method:</th>             <td>Least Squares</td>  <th>  F-statistic:       </th>          <td>   474.7</td>\n",
       "</tr>\n",
       "<tr>\n",
       "  <th>Date:</th>             <td>Tue, 17 Nov 2020</td> <th>  Prob (F-statistic):</th>          <td>1.34e-54</td>\n",
       "</tr>\n",
       "<tr>\n",
       "  <th>Time:</th>                 <td>21:12:05</td>     <th>  Log-Likelihood:    </th>          <td> -1092.1</td>\n",
       "</tr>\n",
       "<tr>\n",
       "  <th>No. Observations:</th>      <td>   200</td>      <th>  AIC:               </th>          <td>   2186.</td>\n",
       "</tr>\n",
       "<tr>\n",
       "  <th>Df Residuals:</th>          <td>   199</td>      <th>  BIC:               </th>          <td>   2190.</td>\n",
       "</tr>\n",
       "<tr>\n",
       "  <th>Df Model:</th>              <td>     1</td>      <th>                     </th>              <td> </td>   \n",
       "</tr>\n",
       "<tr>\n",
       "  <th>Covariance Type:</th>      <td>nonrobust</td>    <th>                     </th>              <td> </td>   \n",
       "</tr>\n",
       "</table>\n",
       "<table class=\"simpletable\">\n",
       "<tr>\n",
       "           <td></td>             <th>coef</th>     <th>std err</th>      <th>t</th>      <th>P>|t|</th>  <th>[0.025</th>    <th>0.975]</th>  \n",
       "</tr>\n",
       "<tr>\n",
       "  <th>arrival_date_month</th> <td>   11.7997</td> <td>    0.542</td> <td>   21.789</td> <td> 0.000</td> <td>   10.732</td> <td>   12.868</td>\n",
       "</tr>\n",
       "</table>\n",
       "<table class=\"simpletable\">\n",
       "<tr>\n",
       "  <th>Omnibus:</th>       <td> 9.201</td> <th>  Durbin-Watson:     </th> <td>   1.624</td>\n",
       "</tr>\n",
       "<tr>\n",
       "  <th>Prob(Omnibus):</th> <td> 0.010</td> <th>  Jarque-Bera (JB):  </th> <td>   5.331</td>\n",
       "</tr>\n",
       "<tr>\n",
       "  <th>Skew:</th>          <td>-0.217</td> <th>  Prob(JB):          </th> <td>  0.0696</td>\n",
       "</tr>\n",
       "<tr>\n",
       "  <th>Kurtosis:</th>      <td> 2.328</td> <th>  Cond. No.          </th> <td>    1.00</td>\n",
       "</tr>\n",
       "</table><br/><br/>Warnings:<br/>[1] Standard Errors assume that the covariance matrix of the errors is correctly specified."
      ],
      "text/plain": [
       "<class 'statsmodels.iolib.summary.Summary'>\n",
       "\"\"\"\n",
       "                                 OLS Regression Results                                \n",
       "=======================================================================================\n",
       "Dep. Variable:                    adr   R-squared (uncentered):                   0.705\n",
       "Model:                            OLS   Adj. R-squared (uncentered):              0.703\n",
       "Method:                 Least Squares   F-statistic:                              474.7\n",
       "Date:                Tue, 17 Nov 2020   Prob (F-statistic):                    1.34e-54\n",
       "Time:                        21:12:05   Log-Likelihood:                         -1092.1\n",
       "No. Observations:                 200   AIC:                                      2186.\n",
       "Df Residuals:                     199   BIC:                                      2190.\n",
       "Df Model:                           1                                                  \n",
       "Covariance Type:            nonrobust                                                  \n",
       "======================================================================================\n",
       "                         coef    std err          t      P>|t|      [0.025      0.975]\n",
       "--------------------------------------------------------------------------------------\n",
       "arrival_date_month    11.7997      0.542     21.789      0.000      10.732      12.868\n",
       "==============================================================================\n",
       "Omnibus:                        9.201   Durbin-Watson:                   1.624\n",
       "Prob(Omnibus):                  0.010   Jarque-Bera (JB):                5.331\n",
       "Skew:                          -0.217   Prob(JB):                       0.0696\n",
       "Kurtosis:                       2.328   Cond. No.                         1.00\n",
       "==============================================================================\n",
       "\n",
       "Warnings:\n",
       "[1] Standard Errors assume that the covariance matrix of the errors is correctly specified.\n",
       "\"\"\""
      ]
     },
     "execution_count": 231,
     "metadata": {},
     "output_type": "execute_result"
    },
    {
     "data": {
      "image/png": "[encoded data removed]",
      "text/plain": [
       "<Figure size 432x288 with 1 Axes>"
      ]
     },
     "metadata": {
      "needs_background": "light"
     },
     "output_type": "display_data"
    }
   ],
   "source": [
    "new=df[df['reservation_status']==1]\n",
    "new=df[df['adr'] > 40]\n",
    "new=df[df['adr']< 250]\n",
    "new_1=new.sample(200)\n",
    "x=new_1['arrival_date_month']\n",
    "y=new_1['adr']\n",
    "\n",
    "plt.scatter(x,y)\n",
    "\n",
    "\n",
    "XE=sm.add_constant(x)\n",
    "mod=sm.OLS(y,x)\n",
    "res=mod.fit()\n",
    "res.summary()\n"
   ]
  },
  {
   "cell_type": "code",
   "execution_count": 230,
   "metadata": {},
   "outputs": [
    {
     "name": "stdout",
     "output_type": "stream",
     "text": [
      "                            OLS Regression Results                            \n",
      "==============================================================================\n",
      "Dep. Variable:                    adr   R-squared:                       0.007\n",
      "Model:                            OLS   Adj. R-squared:                  0.002\n",
      "Method:                 Least Squares   F-statistic:                     1.437\n",
      "Date:                Tue, 17 Nov 2020   Prob (F-statistic):              0.232\n",
      "Time:                        21:11:45   Log-Likelihood:                -1057.6\n",
      "No. Observations:                 200   AIC:                             2119.\n",
      "Df Residuals:                     198   BIC:                             2126.\n",
      "Df Model:                           1                                         \n",
      "Covariance Type:            nonrobust                                         \n",
      "======================================================================================\n",
      "                         coef    std err          t      P>|t|      [0.025      0.975]\n",
      "--------------------------------------------------------------------------------------\n",
      "Intercept             93.9425      7.720     12.168      0.000      78.718     109.167\n",
      "arrival_date_month     1.2787      1.067      1.199      0.232      -0.825       3.383\n",
      "==============================================================================\n",
      "Omnibus:                       12.552   Durbin-Watson:                   1.948\n",
      "Prob(Omnibus):                  0.002   Jarque-Bera (JB):               13.048\n",
      "Skew:                           0.589   Prob(JB):                      0.00147\n",
      "Kurtosis:                       3.419   Cond. No.                         16.7\n",
      "==============================================================================\n",
      "\n",
      "Warnings:\n",
      "[1] Standard Errors assume that the covariance matrix of the errors is correctly specified.\n"
     ]
    }
   ],
   "source": [
    "results = smf.ols('adr ~ arrival_date_month', data=new_1).fit()\n",
    "print(results.summary())"
   ]
  },
  {
   "cell_type": "code",
   "execution_count": 232,
   "metadata": {},
   "outputs": [
    {
     "data": {
      "image/png": "[encoded data removed]",
      "text/plain": [
       "<Figure size 576x432 with 1 Axes>"
      ]
     },
     "metadata": {
      "needs_background": "light"
     },
     "output_type": "display_data"
    }
   ],
   "source": [
    "from statsmodels.graphics.regressionplots import plot_leverage_resid2\n",
    "fig, ax = plt.subplots(figsize=(8,6))\n",
    "fig = plot_leverage_resid2(results, ax = ax)"
   ]
  },
  {
   "cell_type": "code",
   "execution_count": 243,
   "metadata": {},
   "outputs": [
    {
     "data": {
      "text/plain": [
       "Text(0, 0.5, 'average daily rate')"
      ]
     },
     "execution_count": 243,
     "metadata": {},
     "output_type": "execute_result"
    },
    {
     "data": {
      "image/png": "[encoded data removed]",
      "text/plain": [
       "<Figure size 432x288 with 1 Axes>"
      ]
     },
     "metadata": {
      "needs_background": "light"
     },
     "output_type": "display_data"
    }
   ],
   "source": [
    "new=df[df['reservation_status']==1]\n",
    "\n",
    "new=df[df['adr']< 200]\n",
    "new=df[df['lead_time']<50]\n",
    "\n",
    "new_1=new.sample(200)\n",
    "x=new_1['lead_time']\n",
    "y=new_1['adr']\n",
    "plt.scatter(x,y)\n",
    "plt.xlabel(\"lead time\")\n",
    "plt.ylabel(\"average daily rate\")\n"
   ]
  },
  {
   "cell_type": "code",
   "execution_count": 241,
   "metadata": {},
   "outputs": [
    {
     "name": "stdout",
     "output_type": "stream",
     "text": [
      "                            OLS Regression Results                            \n",
      "==============================================================================\n",
      "Dep. Variable:                    adr   R-squared:                       0.045\n",
      "Model:                            OLS   Adj. R-squared:                  0.041\n",
      "Method:                 Least Squares   F-statistic:                     9.407\n",
      "Date:                Tue, 17 Nov 2020   Prob (F-statistic):            0.00246\n",
      "Time:                        22:14:04   Log-Likelihood:                -1033.4\n",
      "No. Observations:                 200   AIC:                             2071.\n",
      "Df Residuals:                     198   BIC:                             2077.\n",
      "Df Model:                           1                                         \n",
      "Covariance Type:            nonrobust                                         \n",
      "==============================================================================\n",
      "                 coef    std err          t      P>|t|      [0.025      0.975]\n",
      "------------------------------------------------------------------------------\n",
      "Intercept     84.8371      4.549     18.650      0.000      75.866      93.808\n",
      "lead_time      0.2977      0.097      3.067      0.002       0.106       0.489\n",
      "==============================================================================\n",
      "Omnibus:                       27.870   Durbin-Watson:                   2.088\n",
      "Prob(Omnibus):                  0.000   Jarque-Bera (JB):               36.218\n",
      "Skew:                           0.891   Prob(JB):                     1.37e-08\n",
      "Kurtosis:                       4.081   Cond. No.                         70.7\n",
      "==============================================================================\n",
      "\n",
      "Warnings:\n",
      "[1] Standard Errors assume that the covariance matrix of the errors is correctly specified.\n"
     ]
    }
   ],
   "source": [
    "results = smf.ols('adr ~ lead_time', data=new_1).fit()\n",
    "print(results.summary())"
   ]
  },
  {
   "cell_type": "code",
   "execution_count": 107,
   "metadata": {},
   "outputs": [
    {
     "name": "stdout",
     "output_type": "stream",
     "text": [
      "[-0.05674943 18.71211737  1.36123215  9.58469339  9.69153525  1.34874516]\n"
     ]
    }
   ],
   "source": [
    "regr = linear_model.LinearRegression()\n",
    "regr.fit(X, y)\n",
    "print(regr.coef_)"
   ]
  },
  {
   "cell_type": "code",
   "execution_count": 109,
   "metadata": {},
   "outputs": [
    {
     "data": {
      "text/html": [
       "<table class=\"simpletable\">\n",
       "<caption>OLS Regression Results</caption>\n",
       "<tr>\n",
       "  <th>Dep. Variable:</th>           <td>adr</td>       <th>  R-squared (uncentered):</th>       <td>   0.366</td>  \n",
       "</tr>\n",
       "<tr>\n",
       "  <th>Model:</th>                   <td>OLS</td>       <th>  Adj. R-squared (uncentered):</th>  <td>   0.366</td>  \n",
       "</tr>\n",
       "<tr>\n",
       "  <th>Method:</th>             <td>Least Squares</td>  <th>  F-statistic:       </th>           <td>6.882e+04</td> \n",
       "</tr>\n",
       "<tr>\n",
       "  <th>Date:</th>             <td>Tue, 17 Nov 2020</td> <th>  Prob (F-statistic):</th>            <td>  0.00</td>   \n",
       "</tr>\n",
       "<tr>\n",
       "  <th>Time:</th>                 <td>09:42:52</td>     <th>  Log-Likelihood:    </th>          <td>-7.0736e+05</td>\n",
       "</tr>\n",
       "<tr>\n",
       "  <th>No. Observations:</th>      <td>119390</td>      <th>  AIC:               </th>           <td>1.415e+06</td> \n",
       "</tr>\n",
       "<tr>\n",
       "  <th>Df Residuals:</th>          <td>119389</td>      <th>  BIC:               </th>           <td>1.415e+06</td> \n",
       "</tr>\n",
       "<tr>\n",
       "  <th>Df Model:</th>              <td>     1</td>      <th>                     </th>               <td> </td>     \n",
       "</tr>\n",
       "<tr>\n",
       "  <th>Covariance Type:</th>      <td>nonrobust</td>    <th>                     </th>               <td> </td>     \n",
       "</tr>\n",
       "</table>\n",
       "<table class=\"simpletable\">\n",
       "<tr>\n",
       "      <td></td>         <th>coef</th>     <th>std err</th>      <th>t</th>      <th>P>|t|</th>  <th>[0.025</th>    <th>0.975]</th>  \n",
       "</tr>\n",
       "<tr>\n",
       "  <th>lead_time</th> <td>    0.4610</td> <td>    0.002</td> <td>  262.327</td> <td> 0.000</td> <td>    0.458</td> <td>    0.464</td>\n",
       "</tr>\n",
       "</table>\n",
       "<table class=\"simpletable\">\n",
       "<tr>\n",
       "  <th>Omnibus:</th>       <td>110045.093</td> <th>  Durbin-Watson:     </th>   <td>   0.612</td>   \n",
       "</tr>\n",
       "<tr>\n",
       "  <th>Prob(Omnibus):</th>   <td> 0.000</td>   <th>  Jarque-Bera (JB):  </th> <td>291143893.673</td>\n",
       "</tr>\n",
       "<tr>\n",
       "  <th>Skew:</th>            <td> 3.134</td>   <th>  Prob(JB):          </th>   <td>    0.00</td>   \n",
       "</tr>\n",
       "<tr>\n",
       "  <th>Kurtosis:</th>        <td>244.841</td>  <th>  Cond. No.          </th>   <td>    1.00</td>   \n",
       "</tr>\n",
       "</table><br/><br/>Warnings:<br/>[1] Standard Errors assume that the covariance matrix of the errors is correctly specified."
      ],
      "text/plain": [
       "<class 'statsmodels.iolib.summary.Summary'>\n",
       "\"\"\"\n",
       "                                 OLS Regression Results                                \n",
       "=======================================================================================\n",
       "Dep. Variable:                    adr   R-squared (uncentered):                   0.366\n",
       "Model:                            OLS   Adj. R-squared (uncentered):              0.366\n",
       "Method:                 Least Squares   F-statistic:                          6.882e+04\n",
       "Date:                Tue, 17 Nov 2020   Prob (F-statistic):                        0.00\n",
       "Time:                        09:42:52   Log-Likelihood:                     -7.0736e+05\n",
       "No. Observations:              119390   AIC:                                  1.415e+06\n",
       "Df Residuals:                  119389   BIC:                                  1.415e+06\n",
       "Df Model:                           1                                                  \n",
       "Covariance Type:            nonrobust                                                  \n",
       "==============================================================================\n",
       "                 coef    std err          t      P>|t|      [0.025      0.975]\n",
       "------------------------------------------------------------------------------\n",
       "lead_time      0.4610      0.002    262.327      0.000       0.458       0.464\n",
       "==============================================================================\n",
       "Omnibus:                   110045.093   Durbin-Watson:                   0.612\n",
       "Prob(Omnibus):                  0.000   Jarque-Bera (JB):        291143893.673\n",
       "Skew:                           3.134   Prob(JB):                         0.00\n",
       "Kurtosis:                     244.841   Cond. No.                         1.00\n",
       "==============================================================================\n",
       "\n",
       "Warnings:\n",
       "[1] Standard Errors assume that the covariance matrix of the errors is correctly specified.\n",
       "\"\"\""
      ]
     },
     "execution_count": 109,
     "metadata": {},
     "output_type": "execute_result"
    }
   ],
   "source": [
    "#simple linear regression\n",
    "XE=sm.add_constant(x100)\n",
    "mod=sm.OLS(Y,x100)\n",
    "res=mod.fit()\n",
    "res.summary()"
   ]
  },
  {
   "cell_type": "code",
   "execution_count": 43,
   "metadata": {},
   "outputs": [
    {
     "data": {
      "text/html": [
       "<table class=\"simpletable\">\n",
       "<caption>OLS Regression Results</caption>\n",
       "<tr>\n",
       "  <th>Dep. Variable:</th>    <td>reservation_status</td> <th>  R-squared (uncentered):</th>       <td>   0.855</td>  \n",
       "</tr>\n",
       "<tr>\n",
       "  <th>Model:</th>                    <td>OLS</td>        <th>  Adj. R-squared (uncentered):</th>  <td>   0.855</td>  \n",
       "</tr>\n",
       "<tr>\n",
       "  <th>Method:</th>              <td>Least Squares</td>   <th>  F-statistic:       </th>           <td>1.410e+05</td> \n",
       "</tr>\n",
       "<tr>\n",
       "  <th>Date:</th>              <td>Tue, 17 Nov 2020</td>  <th>  Prob (F-statistic):</th>            <td>  0.00</td>   \n",
       "</tr>\n",
       "<tr>\n",
       "  <th>Time:</th>                  <td>07:47:35</td>      <th>  Log-Likelihood:    </th>          <td>-1.0009e+05</td>\n",
       "</tr>\n",
       "<tr>\n",
       "  <th>No. Observations:</th>       <td>119390</td>       <th>  AIC:               </th>           <td>2.002e+05</td> \n",
       "</tr>\n",
       "<tr>\n",
       "  <th>Df Residuals:</th>           <td>119385</td>       <th>  BIC:               </th>           <td>2.002e+05</td> \n",
       "</tr>\n",
       "<tr>\n",
       "  <th>Df Model:</th>               <td>     5</td>       <th>                     </th>               <td> </td>     \n",
       "</tr>\n",
       "<tr>\n",
       "  <th>Covariance Type:</th>       <td>nonrobust</td>     <th>                     </th>               <td> </td>     \n",
       "</tr>\n",
       "</table>\n",
       "<table class=\"simpletable\">\n",
       "<tr>\n",
       "              <td></td>                 <th>coef</th>     <th>std err</th>      <th>t</th>      <th>P>|t|</th>  <th>[0.025</th>    <th>0.975]</th>  \n",
       "</tr>\n",
       "<tr>\n",
       "  <th>lead_time</th>                 <td>    0.0015</td> <td> 1.55e-05</td> <td>   99.972</td> <td> 0.000</td> <td>    0.002</td> <td>    0.002</td>\n",
       "</tr>\n",
       "<tr>\n",
       "  <th>adults</th>                    <td>    0.3715</td> <td>    0.002</td> <td>  167.540</td> <td> 0.000</td> <td>    0.367</td> <td>    0.376</td>\n",
       "</tr>\n",
       "<tr>\n",
       "  <th>arrival_date_month</th>        <td>    0.0389</td> <td>    0.000</td> <td>   82.078</td> <td> 0.000</td> <td>    0.038</td> <td>    0.040</td>\n",
       "</tr>\n",
       "<tr>\n",
       "  <th>total_of_special_requests</th> <td>   -0.1250</td> <td>    0.002</td> <td>  -59.760</td> <td> 0.000</td> <td>   -0.129</td> <td>   -0.121</td>\n",
       "</tr>\n",
       "<tr>\n",
       "  <th>adr</th>                       <td>    0.0027</td> <td> 3.21e-05</td> <td>   83.737</td> <td> 0.000</td> <td>    0.003</td> <td>    0.003</td>\n",
       "</tr>\n",
       "</table>\n",
       "<table class=\"simpletable\">\n",
       "<tr>\n",
       "  <th>Omnibus:</th>       <td>41051.909</td> <th>  Durbin-Watson:     </th>  <td>   0.655</td>  \n",
       "</tr>\n",
       "<tr>\n",
       "  <th>Prob(Omnibus):</th>  <td> 0.000</td>   <th>  Jarque-Bera (JB):  </th> <td>4785262.672</td>\n",
       "</tr>\n",
       "<tr>\n",
       "  <th>Skew:</th>           <td>-0.643</td>   <th>  Prob(JB):          </th>  <td>    0.00</td>  \n",
       "</tr>\n",
       "<tr>\n",
       "  <th>Kurtosis:</th>       <td>33.989</td>   <th>  Cond. No.          </th>  <td>    246.</td>  \n",
       "</tr>\n",
       "</table><br/><br/>Warnings:<br/>[1] Standard Errors assume that the covariance matrix of the errors is correctly specified."
      ],
      "text/plain": [
       "<class 'statsmodels.iolib.summary.Summary'>\n",
       "\"\"\"\n",
       "                                 OLS Regression Results                                \n",
       "=======================================================================================\n",
       "Dep. Variable:     reservation_status   R-squared (uncentered):                   0.855\n",
       "Model:                            OLS   Adj. R-squared (uncentered):              0.855\n",
       "Method:                 Least Squares   F-statistic:                          1.410e+05\n",
       "Date:                Tue, 17 Nov 2020   Prob (F-statistic):                        0.00\n",
       "Time:                        07:47:35   Log-Likelihood:                     -1.0009e+05\n",
       "No. Observations:              119390   AIC:                                  2.002e+05\n",
       "Df Residuals:                  119385   BIC:                                  2.002e+05\n",
       "Df Model:                           5                                                  \n",
       "Covariance Type:            nonrobust                                                  \n",
       "=============================================================================================\n",
       "                                coef    std err          t      P>|t|      [0.025      0.975]\n",
       "---------------------------------------------------------------------------------------------\n",
       "lead_time                     0.0015   1.55e-05     99.972      0.000       0.002       0.002\n",
       "adults                        0.3715      0.002    167.540      0.000       0.367       0.376\n",
       "arrival_date_month            0.0389      0.000     82.078      0.000       0.038       0.040\n",
       "total_of_special_requests    -0.1250      0.002    -59.760      0.000      -0.129      -0.121\n",
       "adr                           0.0027   3.21e-05     83.737      0.000       0.003       0.003\n",
       "==============================================================================\n",
       "Omnibus:                    41051.909   Durbin-Watson:                   0.655\n",
       "Prob(Omnibus):                  0.000   Jarque-Bera (JB):          4785262.672\n",
       "Skew:                          -0.643   Prob(JB):                         0.00\n",
       "Kurtosis:                      33.989   Cond. No.                         246.\n",
       "==============================================================================\n",
       "\n",
       "Warnings:\n",
       "[1] Standard Errors assume that the covariance matrix of the errors is correctly specified.\n",
       "\"\"\""
      ]
     },
     "execution_count": 43,
     "metadata": {},
     "output_type": "execute_result"
    }
   ],
   "source": [
    "XA=df[['lead_time','adults','arrival_date_month','total_of_special_requests','adr']]\n",
    "YA=df['reservation_status']\n",
    "\n",
    "XMM=sm.add_constant(XA)\n",
    "\n",
    "Kmm=sm.OLS(YA,XA).fit()\n",
    "Kmm.summary()"
   ]
  },
  {
   "cell_type": "code",
   "execution_count": 51,
   "metadata": {},
   "outputs": [
    {
     "name": "stdout",
     "output_type": "stream",
     "text": [
      "                            OLS Regression Results                            \n",
      "==============================================================================\n",
      "Dep. Variable:     reservation_status   R-squared:                       0.062\n",
      "Model:                            OLS   Adj. R-squared:                  0.012\n",
      "Method:                 Least Squares   F-statistic:                     1.239\n",
      "Date:                Tue, 17 Nov 2020   Prob (F-statistic):              0.297\n",
      "Time:                        07:55:04   Log-Likelihood:                -68.884\n",
      "No. Observations:                 100   AIC:                             149.8\n",
      "Df Residuals:                      94   BIC:                             165.4\n",
      "Df Model:                           5                                         \n",
      "Covariance Type:            nonrobust                                         \n",
      "=============================================================================================\n",
      "                                coef    std err          t      P>|t|      [0.025      0.975]\n",
      "---------------------------------------------------------------------------------------------\n",
      "Intercept                     1.0447      0.223      4.685      0.000       0.602       1.487\n",
      "lead_time                     0.0010      0.001      1.638      0.105      -0.000       0.002\n",
      "adults                        0.1404      0.111      1.269      0.208      -0.079       0.360\n",
      "arrival_date_month           -0.0036      0.017     -0.212      0.833      -0.037       0.030\n",
      "total_of_special_requests     0.0291      0.064      0.456      0.649      -0.098       0.156\n",
      "adr                           0.0008      0.001      0.776      0.440      -0.001       0.003\n",
      "==============================================================================\n",
      "Omnibus:                     1364.449   Durbin-Watson:                   2.059\n",
      "Prob(Omnibus):                  0.000   Jarque-Bera (JB):               12.884\n",
      "Skew:                           0.156   Prob(JB):                      0.00159\n",
      "Kurtosis:                       1.270   Cond. No.                         727.\n",
      "==============================================================================\n",
      "\n",
      "Warnings:\n",
      "[1] Standard Errors assume that the covariance matrix of the errors is correctly specified.\n"
     ]
    }
   ],
   "source": [
    "df_2=df.sample(100)\n",
    "results = smf.ols('reservation_status ~ lead_time + adults + arrival_date_month + total_of_special_requests + adr', data=df_2).fit()\n",
    "print(results.summary())"
   ]
  },
  {
   "cell_type": "code",
   "execution_count": 52,
   "metadata": {},
   "outputs": [
    {
     "data": {
      "image/png": "[encoded data removed]",
      "text/plain": [
       "<Figure size 576x432 with 1 Axes>"
      ]
     },
     "metadata": {
      "needs_background": "light"
     },
     "output_type": "display_data"
    }
   ],
   "source": [
    "from statsmodels.graphics.regressionplots import plot_leverage_resid2\n",
    "fig, ax = plt.subplots(figsize=(8,6))\n",
    "fig = plot_leverage_resid2(results, ax = ax)"
   ]
  }
 ],
 "metadata": {
  "kernelspec": {
   "display_name": "Python 3",
   "language": "python",
   "name": "python3"
  },
  "language_info": {
   "codemirror_mode": {
    "name": "ipython",
    "version": 3
   },
   "file_extension": ".py",
   "mimetype": "text/x-python",
   "name": "python",
   "nbconvert_exporter": "python",
   "pygments_lexer": "ipython3",
   "version": "3.8.3"
  }
 },
 "nbformat": 4,
 "nbformat_minor": 4
}
