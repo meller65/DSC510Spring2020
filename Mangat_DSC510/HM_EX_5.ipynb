{
 "cells": [
  {
   "cell_type": "code",
   "execution_count": 1,
   "metadata": {},
   "outputs": [
    {
     "name": "stdout",
     "output_type": "stream",
     "text": [
      "The % of the US population that is in this range is 34.20946829459531\n"
     ]
    }
   ],
   "source": [
    "#Name: Harsimar Mangat\n",
    "#Student ID: 21231935\n",
    "\n",
    "\n",
    "from __future__ import print_function, division\n",
    "\n",
    "import scipy.stats\n",
    "\n",
    "\n",
    "%matplotlib inline\n",
    "\n",
    "import numpy as np\n",
    "import populations\n",
    "import density\n",
    "import nsfg\n",
    "import first\n",
    "import analytic\n",
    "import hinc\n",
    "import hinc2\n",
    "import brfss\n",
    "import thinkstats2\n",
    "import thinkplot\n",
    "\n",
    "#Exercise 5.1\n",
    "mu = 178\n",
    "sigma = 7.7\n",
    "#Using scipy.stats.norm.cdf\n",
    "#create variable x using the statistical function scipy.stats, the loc is the mean/mu and the scale/std deviation and sigma\n",
    "#To shift and scale the distribution, we would use the 'loc' and 'scale' parameters\n",
    "#Per page 57 of our text, they quote that the distribution of adult weights is apporximatley lognormal. \n",
    "x = scipy.stats.norm(loc=mu, scale=sigma)\n",
    "#apply the cdf method.\n",
    "low = x.cdf(177.8)    # lower Bound 5'10\"\n",
    "high = x.cdf(185.4)   # Higher Bound 6'1\"\n",
    "d=(high-low)*100\n",
    "print(\"The % of the US population that is in this range is\",d)"
   ]
  },
  {
   "cell_type": "code",
   "execution_count": 2,
   "metadata": {},
   "outputs": [
    {
     "data": {
      "text/plain": [
       "1.009276922819508"
      ]
     },
     "execution_count": 2,
     "metadata": {},
     "output_type": "execute_result"
    },
    {
     "data": {
      "image/png": "[encoded data removed]",
      "text/plain": [
       "<Figure size 432x288 with 1 Axes>"
      ]
     },
     "metadata": {
      "needs_background": "light"
     },
     "output_type": "display_data"
    }
   ],
   "source": [
    "#Exercise 5.2\n",
    "\n",
    "\n",
    "#Pareto distribution uses two parameters, alpha and xmin. Min is the minimum possile value & alpha (slope/shape parameter)\n",
    "alpha = 1.7\n",
    "xmin = 1       \n",
    "population = scipy.stats.pareto(b=alpha, scale=xmin)\n",
    "\n",
    "thinkplot.PrePlot(1)\n",
    "xs, ps = thinkstats2.RenderParetoCdf(xmin, alpha, 0, 10.0, n=100) \n",
    "thinkplot.Plot(xs, ps, label=r'$\\alpha=%g$' % alpha)\n",
    "    \n",
    "thinkplot.Config(title='Pareto CDF', xlabel='x',\n",
    "                 ylabel='CDF', loc='lower right')\n",
    "\n",
    "\n",
    "#What is the mean Human Height?\n",
    "population.mean()\n",
    "#2.4m\n",
    "#What is the fraction of the population that is shorter than the mean?\n",
    "population.cdf(population.mean())\n",
    "#77.87% of the population \n",
    "#If there are 7 billion people in pareteo world, how many do we expect to be taller than 1KM?\n",
    "population.sf(1000) * 7000000000\n",
    "#We expect 55,602 people to be taller than 1 KM\n",
    "#How tall do we expect the tallest person to be?\n",
    "population.sf(615000)* 7e9\n",
    "#Using .SF, we identify a value that could be constituted as the largest individual. In the previous example\n",
    "# We calculated how many people we expected to be taller than 1KM. So, this we expect 1 person to be taller than 615,000\n",
    "\n",
    "\n"
   ]
  },
  {
   "cell_type": "code",
   "execution_count": 3,
   "metadata": {},
   "outputs": [
    {
     "name": "stderr",
     "output_type": "stream",
     "text": [
      "C:\\ProgramData\\Anaconda3\\lib\\site-packages\\ipykernel_launcher.py:28: DeprecationWarning: object of type <class 'numpy.float64'> cannot be safely interpreted as an integer.\n",
      "No handles with labels found to put in legend.\n",
      "No handles with labels found to put in legend.\n"
     ]
    },
    {
     "name": "stdout",
     "output_type": "stream",
     "text": [
      "Percentage of population below the mean salary is  66.0005879566872 %\n"
     ]
    },
    {
     "data": {
      "image/png": "[encoded data removed]",
      "text/plain": [
       "<Figure size 432x288 with 1 Axes>"
      ]
     },
     "metadata": {
      "needs_background": "light"
     },
     "output_type": "display_data"
    }
   ],
   "source": [
    "#Exercise 6.1\n",
    "\n",
    "def InterpolateSample(df, log_upper=6.0):\n",
    "    \"\"\"Makes a sample of log10 household income.\n",
    "\n",
    "    Assumes that log10 income is uniform in each range.\n",
    "\n",
    "    df: DataFrame with columns income and freq\n",
    "    log_upper: log10 of the assumed upper bound for the highest range\n",
    "\n",
    "    returns: NumPy array of log10 household income\n",
    "    \"\"\"\n",
    "    # compute the log10 of the upper bound for each range\n",
    "    df['log_upper'] = np.log10(df.income)\n",
    "\n",
    "    # get the lower bounds by shifting the upper bound and filling in\n",
    "    # the first element\n",
    "    df['log_lower'] = df.log_upper.shift(1)\n",
    "    df.loc[0, 'log_lower'] = 3.0\n",
    "\n",
    "    # plug in a value for the unknown upper bound of the highest range\n",
    "    df.loc[41, 'log_upper'] = log_upper\n",
    "    \n",
    "    # use the freq column to generate the right number of values in\n",
    "    # each range\n",
    "    arrays = []\n",
    "    for _, row in df.iterrows():\n",
    "        vals = np.linspace(row.log_lower, row.log_upper, row.freq)\n",
    "        arrays.append(vals)\n",
    "\n",
    "    # collect the arrays into a single sample\n",
    "    log_sample = np.concatenate(arrays)\n",
    "    return log_sample\n",
    "\n",
    "def RawMoment(xs, k):\n",
    "    return sum(x**k for x in xs) / len(xs)\n",
    "\n",
    "def Mean(xs):\n",
    "    return RawMoment(xs, 1)\n",
    "\n",
    "def CentralMoment(xs, k):\n",
    "    mean = RawMoment(xs, 1)\n",
    "    return sum((x - mean)**k for x in xs) / len(xs)\n",
    "    \n",
    "def Var(xs):\n",
    "    return CentralMoment(xs, 2)\n",
    "\n",
    "def StandardizedMoment(xs, k):\n",
    "    var = CentralMoment(xs, 2)\n",
    "    std = np.sqrt(var)\n",
    "    return CentralMoment(xs, k) / std**k\n",
    "\n",
    "def Skewness(xs):\n",
    "    return StandardizedMoment(xs, 3)\n",
    "\n",
    "def Median(xs):\n",
    "    cdf = thinkstats2.Cdf(xs)\n",
    "    return cdf.Value(0.5)\n",
    "\n",
    "def PearsonMedianSkewness(xs):\n",
    "    median = Median(xs)\n",
    "    mean = RawMoment(xs, 1)\n",
    "    var = CentralMoment(xs, 2)\n",
    "    std = np.sqrt(var)\n",
    "    gp = 3 * (mean - median) / std\n",
    "    return gp\n",
    "\n",
    "\n",
    "\n",
    "\n",
    "\n",
    "income_df = hinc.ReadData()\n",
    "log_sample = InterpolateSample(income_df, log_upper=6.0)\n",
    "log_cdf = thinkstats2.Cdf(log_sample)\n",
    "thinkplot.Cdf(log_cdf)\n",
    "thinkplot.Config(xlabel='Household income (log $)',\n",
    "               ylabel='CDF')\n",
    "\n",
    "sample = np.power(10, log_sample)\n",
    "cdf = thinkstats2.Cdf(sample)\n",
    "thinkplot.Cdf(cdf)\n",
    "thinkplot.Config(xlabel='Household income ($)',\n",
    "               ylabel='CDF')\n",
    "\n",
    "#Compute the median, mean, skewness and Pearson’s skewness of the resulting sample\n",
    "#Mean(sample)\n",
    "#Mean is $74,278\n",
    "\n",
    "#Median(sample)\n",
    "#Median is $51,226\n",
    "\n",
    "Skewness(sample)\n",
    "#The Skewness is 4.94992\n",
    "\n",
    "\n",
    "PearsonMedianSkewness(sample)\n",
    "#The PearsonMedianSkewness is .736\n",
    "#Since the mean is larger than the median , that is consistent with a right skew. Both skewness values are positive as well. \n",
    "\n",
    "print(\"Percentage of population below the mean salary is \", cdf.Prob(Mean(sample))*100, \"%\")\n",
    "\n",
    "#What fraction of households report a taxable income below the mean?\n",
    "#70% of the population reports income below the mean\n",
    "\n",
    "#How do the results depend on the assumed upper bound? \n",
    "#These calculations, sample, are all based on a 1,000,000 upper bound. We know that is not the max income, and can change the final calculation dramatically.\n",
    "#What if the upper bound was $500,000 or $50,000,000?"
   ]
  }
 ],
 "metadata": {
  "kernelspec": {
   "display_name": "Python 3",
   "language": "python",
   "name": "python3"
  },
  "language_info": {
   "codemirror_mode": {
    "name": "ipython",
    "version": 3
   },
   "file_extension": ".py",
   "mimetype": "text/x-python",
   "name": "python",
   "nbconvert_exporter": "python",
   "pygments_lexer": "ipython3",
   "version": "3.7.4"
  }
 },
 "nbformat": 4,
 "nbformat_minor": 2
}
