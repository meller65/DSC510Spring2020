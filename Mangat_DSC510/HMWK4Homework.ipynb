{
 "cells": [
  {
   "cell_type": "code",
   "execution_count": 1,
   "metadata": {},
   "outputs": [],
   "source": [
    "#Name: Harsimar Mangat\n",
    "#Date: 9/27/2020 \n"
   ]
  },
  {
   "cell_type": "code",
   "execution_count": 2,
   "metadata": {},
   "outputs": [],
   "source": [
    "from __future__ import print_function, division\n",
    "%matplotlib inline\n",
    "from matplotlib import pyplot as plt\n",
    "import numpy as np\n",
    "import pandas as pd\n",
    "import first\n",
    "import thinkstats2\n",
    "import thinkplot\n",
    "\n",
    "import  nsfg "
   ]
  },
  {
   "cell_type": "code",
   "execution_count": 3,
   "metadata": {},
   "outputs": [],
   "source": [
    "#Function for Exercise 3.2, this is hte distribution oberved by students, hence the 'biase'\n",
    "def BiasPmf(pmf, label):\n",
    "    new_pmf = pmf.Copy(label=label)\n",
    "\n",
    "    for x, p in pmf.Items():\n",
    "        new_pmf.Mult(x, x)\n",
    "        \n",
    "    new_pmf.Normalize()\n",
    "    return new_pmf"
   ]
  },
  {
   "cell_type": "code",
   "execution_count": 4,
   "metadata": {},
   "outputs": [],
   "source": [
    "#Function that takes Pmf object and computes the mean\n",
    "def PmfMean(pmf):\n",
    "    mean = 0.0\n",
    "    for x, p in pmf.d.items():\n",
    "        mean += p * x\n",
    "    return mean"
   ]
  },
  {
   "cell_type": "code",
   "execution_count": 5,
   "metadata": {},
   "outputs": [],
   "source": [
    "#Function that takes Pmf object and computes the variance\n",
    "def PmfVar(pmf, mu=None):\n",
    "\n",
    "    if mu is None:\n",
    "        mu = pmf.Mean()\n",
    "\n",
    "    var = 0.0\n",
    "    for x, p in pmf.d.items():\n",
    "        var += p * (x - mu) ** 2\n",
    "    return var\n"
   ]
  },
  {
   "cell_type": "code",
   "execution_count": 6,
   "metadata": {},
   "outputs": [
    {
     "name": "stdout",
     "output_type": "stream",
     "text": [
      "pmf mean is:  38.56055968517709\n",
      "pmf var is: 7.301863788195439\n",
      "function mean is:  38.56055968517709\n",
      "function var is:  7.301863788195439\n"
     ]
    },
    {
     "data": {
      "image/png": "[encoded data removed]",
      "text/plain": [
       "<Figure size 432x288 with 1 Axes>"
      ]
     },
     "metadata": {
      "needs_background": "light"
     },
     "output_type": "display_data"
    }
   ],
   "source": [
    "df=nsfg.ReadFemResp()\n",
    "\n",
    "#Exercise 3.1\n",
    "pmf=thinkstats2.Pmf(df.numkdhh,label='numkdhh')\n",
    "thinkplot.Pmf(pmf)\n",
    "\n",
    "thinkplot.Config(xlabel='# of children', ylabel='PMF')\n",
    "\n",
    "biased = BiasPmf(pmf, label='biased')\n",
    "\n",
    "#The following plot will show the actual and observed distribution. \n",
    "# The biased is the observed, and we see that their is are fewer children in their familys. \n",
    "#Overall, the bias mean is 2.40 vs the actual mean which was 1.024, therefore the bias is almost double.\n",
    "thinkplot.PrePlot(2)\n",
    "thinkplot.Pmfs([pmf, biased])\n",
    "thinkplot.Config(xlabel='# of children', ylabel='PMF')\n",
    "\n",
    "\n",
    "#Using a PMF, we then compute the mean\n",
    "pmf.Mean()\n",
    "#Using the biased function, we compute the distribution as observed by children who are asked about their family size, hence the bias (page 32)\n",
    "biased.Mean()\n",
    "\n",
    "pmf.Var()\n",
    "\n",
    "#Exercise 3.2\n",
    "\n",
    "live, firsts, others = first.MakeFrames()\n",
    "\n",
    "prglngth = live.prglngth\n",
    "\n",
    "pmf = thinkstats2.Pmf(prglngth)\n",
    "mean = PmfMean(pmf)\n",
    "var = PmfVar(pmf)\n",
    "\n",
    "#Below is the comparasion between the functional mean/variance and methods\n",
    "print('pmf mean is: ',pmf.Mean())\n",
    "print('pmf var is:', pmf.Var())\n",
    "\n",
    "print('function mean is: ',mean)\n",
    "print('function var is: ',var)\n"
   ]
  },
  {
   "cell_type": "code",
   "execution_count": 7,
   "metadata": {},
   "outputs": [
    {
     "name": "stdout",
     "output_type": "stream",
     "text": [
      "0.021862702229995628\n"
     ]
    },
    {
     "data": {
      "image/png": "[encoded data removed]",
      "text/plain": [
       "<Figure size 432x288 with 1 Axes>"
      ]
     },
     "metadata": {
      "needs_background": "light"
     },
     "output_type": "display_data"
    }
   ],
   "source": [
    "#Exercise 4.1\n",
    "#Since we're investigating percentile ranks, we would use the cumulative distribution function. The CMF maps value to \n",
    "#it's percentile rank.\n",
    "\n",
    "live, firsts, others = first.MakeFrames()\n",
    "cdf = thinkstats2.Cdf(live.prglngth, label='prglngth')\n",
    "print(cdf.PercentileRank(7.4))\n",
    "\n",
    "\n",
    "#Exercise 4.2\n",
    "#Generate random numbers\n",
    "rand = np.random.random(1000)\n",
    "\n",
    "#Generate chart that shows PMF\n",
    "pmf = thinkstats2.Pmf(rand)\n",
    "thinkplot.Pmf(pmf, linewidth=0.1)\n",
    "thinkplot.Config(xlabel='Random', ylabel='PMF')\n",
    "\n",
    "#Generate chart that shows CDF\n",
    "cdf = thinkstats2.Cdf(rand)\n",
    "thinkplot.Cdf(cdf)\n",
    "thinkplot.Config(xlabel='Random', ylabel='CDF')\n",
    "\n",
    "#The CDF chart is close to a straight line, which means the distribution is uniform.\n"
   ]
  }
 ],
 "metadata": {
  "kernelspec": {
   "display_name": "Python 3",
   "language": "python",
   "name": "python3"
  },
  "language_info": {
   "codemirror_mode": {
    "name": "ipython",
    "version": 3
   },
   "file_extension": ".py",
   "mimetype": "text/x-python",
   "name": "python",
   "nbconvert_exporter": "python",
   "pygments_lexer": "ipython3",
   "version": "3.7.4"
  }
 },
 "nbformat": 4,
 "nbformat_minor": 2
}
